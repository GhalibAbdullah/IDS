{
 "cells": [
  {
   "cell_type": "code",
   "execution_count": null,
   "metadata": {},
   "outputs": [],
   "source": [
    "def validate_orders(orders):\n",
    "    def is_valid_order(order):\n",
    "        try:\n",
    "            # Attempt to convert the total to a float\n",
    "            total = float(order['total'])\n",
    "            # Check if the total is non-negative\n",
    "            return total >= 0\n",
    "        except (ValueError, TypeError):\n",
    "           \n",
    "            return False\n",
    "\n",
    "  \n",
    "    valid_orders = list(filter(lambda order: is_valid_order(order), orders))\n",
    "    return valid_orders"
   ]
  },
  {
   "cell_type": "code",
   "execution_count": 3,
   "metadata": {},
   "outputs": [],
   "source": [
    "def apply_discount(orders):\n",
    "   \n",
    "    discounted_orders = list(map(\n",
    "        lambda order: (\n",
    "            {\n",
    "                'customer': order['customer'],\n",
    "                'total': order['total'] * 0.9  # Apply 10% disc\n",
    "            } if order['total'] > 300 else order\n",
    "        ),\n",
    "        orders\n",
    "    ))\n",
    "    return discounted_orders"
   ]
  },
  {
   "cell_type": "code",
   "execution_count": null,
   "metadata": {},
   "outputs": [],
   "source": [
    "from functools import reduce\n",
    "\n",
    "# Calculate total sales\n",
    "total_sales = reduce(\n",
    "    lambda acc, order: acc + order['total'],\n",
    "    discounted_orders,\n",
    "    0  # Initial value \n",
    ")"
   ]
  },
  {
   "cell_type": "code",
   "execution_count": null,
   "metadata": {},
   "outputs": [],
   "source": [
    "class SquareIterator:\n",
    "    def __init__(self, n):\n",
    "        self.n = n\n",
    "        self.current = 1  \n",
    "\n",
    "    def __iter__(self):\n",
    "        return self\n",
    "\n",
    "    def __next__(self):\n",
    "        if self.current <= self.n:\n",
    "            result = self.current ** 2  # Compute sq\n",
    "            self.current += 1\n",
    "            return result\n",
    "        else:\n",
    "            raise StopIteration"
   ]
  },
  {
   "cell_type": "code",
   "execution_count": null,
   "metadata": {},
   "outputs": [],
   "source": [
    "def fibonacci_generator(n):\n",
    "    a, b = 0, 1\n",
    "    while a <= n:\n",
    "        yield a  # Yield the next number \n",
    "        a, b = b, a + b  # Update "
   ]
  },
  {
   "cell_type": "code",
   "execution_count": null,
   "metadata": {},
   "outputs": [],
   "source": [
    "# Custom exception for division by zero\n",
    "class DivisionByZeroError(Exception):\n",
    "    pass\n",
    "\n",
    "def divide_numbers(numbers, divisor):\n",
    "    results = []\n",
    "    try:\n",
    "        if divisor == 0:\n",
    "            \n",
    "            raise DivisionByZeroError(\"Cannot divide by zero.\")\n",
    "        for num in numbers:\n",
    "            try:\n",
    "                # Attempt to divide and append result\n",
    "                result = num / divisor\n",
    "                results.append(result)\n",
    "            except Exception as e:\n",
    "                # Chain exception \n",
    "                raise Exception(f\"Error dividing {num} by {divisor}\") from e\n",
    "    except DivisionByZeroError as e:\n",
    "        \n",
    "        raise e\n",
    "    return results"
   ]
  },
  {
   "cell_type": "code",
   "execution_count": null,
   "metadata": {},
   "outputs": [],
   "source": [
    "def exception_logger(func):\n",
    "    def wrapper(*args, **kwargs):\n",
    "        try:\n",
    "            return func(*args, **kwargs)\n",
    "        except Exception as e:\n",
    "            # Log exception details\n",
    "            print(f\"Exception in function '{func.__name__}': {type(e).__name__} - {e}\")\n",
    "            raise\n",
    "    return wrapper\n",
    "\n",
    "# Applying the decorator to the divide_numbers function\n",
    "@exception_logger\n",
    "def divide_numbers(numbers, divisor):\n",
    "    results = []\n",
    "    if divisor == 0:\n",
    "        raise DivisionByZeroError(\"Cannot divide by zero.\")\n",
    "    for num in numbers:\n",
    "        if not isinstance(num, (int, float)):\n",
    "            raise ValueError(f\"Invalid number '{num}'.\")\n",
    "        result = num / divisor\n",
    "        results.append(result)\n",
    "    return results"
   ]
  },
  {
   "cell_type": "code",
   "execution_count": null,
   "metadata": {},
   "outputs": [],
   "source": []
  }
 ],
 "metadata": {
  "kernelspec": {
   "display_name": "Python 3",
   "language": "python",
   "name": "python3"
  },
  "language_info": {
   "codemirror_mode": {
    "name": "ipython",
    "version": 3
   },
   "file_extension": ".py",
   "mimetype": "text/x-python",
   "name": "python",
   "nbconvert_exporter": "python",
   "pygments_lexer": "ipython3",
   "version": "3.12.4"
  }
 },
 "nbformat": 4,
 "nbformat_minor": 2
}
