{
 "cells": [
  {
   "cell_type": "markdown",
   "metadata": {},
   "source": [
    "# Assignment 04"
   ]
  },
  {
   "cell_type": "markdown",
   "metadata": {},
   "source": [
    "# _________________________________________________________________________"
   ]
  },
  {
   "cell_type": "code",
   "execution_count": 1,
   "metadata": {},
   "outputs": [],
   "source": [
    "# Import necessary libraries\n",
    "import numpy as np\n",
    "import pandas as pd"
   ]
  },
  {
   "cell_type": "markdown",
   "metadata": {},
   "source": [
    "### 1. Initialize Temperature and Humidity Data"
   ]
  },
  {
   "cell_type": "code",
   "execution_count": null,
   "metadata": {},
   "outputs": [],
   "source": [
    "# Generate temperature data in Celsius, ranging from -10 to 40, for 500 locations across 365 days\n",
    "temperature_data = np.random.uniform(-10, 40, (500, 365))\n",
    "\n",
    "# Generate humidity data in percentages, ranging from 0 to 100, for 500 locations across 365 days\n",
    "humidity_data = np.random.uniform(0, 100, (500, 365))\n",
    "\n",
    "# Display basic info\n",
    "print(f\"Temperature Data Shape: {temperature_data.shape}\")\n",
    "print(f\"Humidity Data Shape: {humidity_data.shape}\")\n"
   ]
  },
  {
   "cell_type": "markdown",
   "metadata": {},
   "source": [
    "### 2. Check for Missing Data"
   ]
  },
  {
   "cell_type": "code",
   "execution_count": null,
   "metadata": {},
   "outputs": [],
   "source": [
    "# Introduce 5% missing data in temperature and humidity arrays\n",
    "num_missing_temp = int(0.05 * temperature_data.size)\n",
    "num_missing_humidity = int(0.05 * humidity_data.size)\n",
    "\n",
    "# Choose random indices to set as NaN\n",
    "temp_indices = (np.random.randint(0, 500, num_missing_temp), np.random.randint(0, 365, num_missing_temp))\n",
    "humidity_indices = (np.random.randint(0, 500, num_missing_humidity), np.random.randint(0, 365, num_missing_humidity))\n",
    "\n",
    "# Set chosen indices to NaN for missing data simulation\n",
    "temperature_data[temp_indices] = np.nan\n",
    "humidity_data[humidity_indices] = np.nan\n",
    "\n",
    "# Count missing entries\n",
    "missing_temp_count = np.isnan(temperature_data).sum()\n",
    "missing_humidity_count = np.isnan(humidity_data).sum()\n",
    "\n",
    "print(f\"Missing Temperature Data: {missing_temp_count}\")\n",
    "print(f\"Missing Humidity Data: {missing_humidity_count}\")\n"
   ]
  },
  {
   "cell_type": "markdown",
   "metadata": {},
   "source": [
    "### 3. Convert Temperature and Calculate Discomfort Index"
   ]
  },
  {
   "cell_type": "code",
   "execution_count": null,
   "metadata": {},
   "outputs": [],
   "source": [
    "# Convert temperature from Celsius to Fahrenheit\n",
    "temperature_data_fahrenheit = (temperature_data * 9/5) + 32\n",
    "\n",
    "# Calculate Discomfort Index (feel like index) using a common formula\n",
    "# Discomfort Index = Temperature_F - (0.55 - 0.0055 * Humidity) * (Temperature_F - 58)\n",
    "discomfort_index = temperature_data_fahrenheit - (0.55 - 0.0055 * humidity_data) * (temperature_data_fahrenheit - 58)\n",
    "\n",
    "# Cap discomfort index values at 80\n",
    "discomfort_index = np.where(discomfort_index > 80, 80, discomfort_index)\n",
    "\n",
    "# Display summary stats\n",
    "print(f\"Discomfort Index (capped at 80):\\n {discomfort_index}\")\n"
   ]
  },
  {
   "cell_type": "markdown",
   "metadata": {},
   "source": [
    "### 4. Analyze January Temperatures"
   ]
  },
  {
   "cell_type": "code",
   "execution_count": null,
   "metadata": {},
   "outputs": [],
   "source": [
    "# Extract January (first 31 days) data and calculate the average temperature across all locations\n",
    "january_data = temperature_data[:, :31]\n",
    "average_january_temp = np.nanmean(january_data)\n",
    "\n",
    "print(f\"Average January Temperature across all locations: {average_january_temp:.2f}°C\")\n"
   ]
  },
  {
   "cell_type": "markdown",
   "metadata": {},
   "source": [
    "### 5. Identify Extreme Temperatures"
   ]
  },
  {
   "cell_type": "code",
   "execution_count": null,
   "metadata": {},
   "outputs": [],
   "source": [
    "# Mark temperatures above 35°C as null (NaN) to flag them as potential errors\n",
    "temperature_data[temperature_data > 35] = np.nan\n",
    "\n",
    "# Count the number of NaN values per location\n",
    "null_counts_per_location = np.isnan(temperature_data).sum(axis=1)\n",
    "\n",
    "print(f\"Null counts per location due to extreme temperatures:\\n {null_counts_per_location}\")\n"
   ]
  },
  {
   "cell_type": "markdown",
   "metadata": {},
   "source": [
    "### 6. Calculate Quarterly Temperature Averages"
   ]
  },
  {
   "cell_type": "code",
   "execution_count": null,
   "metadata": {},
   "outputs": [],
   "source": [
    "# Reshape data into quarters: 500 locations x 4 quarters x ~91 days per quarter\n",
    "# Assuming 365 days -> split as 91 days for Q1, Q2, Q3, Q4\n",
    "temperature_quarters = np.split(temperature_data, indices_or_sections=[91, 182, 273], axis=1)\n",
    "\n",
    "# Calculate average temperature for each location across these quarters\n",
    "quarterly_averages = [np.nanmean(quarter, axis=1) for quarter in temperature_quarters]\n",
    "quarterly_averages = np.array(quarterly_averages).T\n",
    "\n",
    "print(\"Quarterly temperature averages per location:\\n\", quarterly_averages)\n"
   ]
  },
  {
   "cell_type": "markdown",
   "metadata": {},
   "source": [
    "### 7. Classify Humidity Levels"
   ]
  },
  {
   "cell_type": "code",
   "execution_count": null,
   "metadata": {},
   "outputs": [],
   "source": [
    "# Classify days as \"Dry\" if humidity < 30% and \"Humid\" if humidity > 70%\n",
    "dry_days = (humidity_data < 30).sum(axis=1)\n",
    "humid_days = (humidity_data > 70).sum(axis=1)\n",
    "\n",
    "print(f\"Total Dry Days per location: {dry_days}\")\n",
    "print(f\"Total Humid Days per location: {humid_days}\")\n"
   ]
  },
  {
   "cell_type": "markdown",
   "metadata": {},
   "source": [
    "### 8. Apply Daily Pressure Trend to Temperature Data"
   ]
  },
  {
   "cell_type": "code",
   "execution_count": null,
   "metadata": {},
   "outputs": [],
   "source": [
    "# Generate a daily pressure trend across 365 days\n",
    "# Assume a sinusoidal pattern to simulate seasonal pressure changes\n",
    "days = np.arange(365)\n",
    "pressure_variation = 5 * np.sin(2 * np.pi * days / 365)  # Example trend between -5 and +5\n",
    "\n",
    "# Adjust daily temperatures at each location by adding pressure variation\n",
    "adjusted_temperature_data = temperature_data + pressure_variation\n",
    "\n",
    "print(f\"Adjusted temperature data with daily pressure trend:\\n {adjusted_temperature_data}\")\n"
   ]
  },
  {
   "cell_type": "markdown",
   "metadata": {},
   "source": [
    "# Thank You  :)"
   ]
  },
  {
   "cell_type": "markdown",
   "metadata": {},
   "source": [
    "# _________________________________________________________________________"
   ]
  }
 ],
 "metadata": {
  "kernelspec": {
   "display_name": "Python 3",
   "language": "python",
   "name": "python3"
  },
  "language_info": {
   "codemirror_mode": {
    "name": "ipython",
    "version": 3
   },
   "file_extension": ".py",
   "mimetype": "text/x-python",
   "name": "python",
   "nbconvert_exporter": "python",
   "pygments_lexer": "ipython3",
   "version": "3.12.4"
  }
 },
 "nbformat": 4,
 "nbformat_minor": 2
}
